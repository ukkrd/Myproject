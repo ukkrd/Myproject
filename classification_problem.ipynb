{
 "cells": [
  {
   "cell_type": "code",
   "execution_count": 14,
   "id": "ec1ee4e3",
   "metadata": {},
   "outputs": [
    {
     "data": {
      "text/html": [
       "<div>\n",
       "<style scoped>\n",
       "    .dataframe tbody tr th:only-of-type {\n",
       "        vertical-align: middle;\n",
       "    }\n",
       "\n",
       "    .dataframe tbody tr th {\n",
       "        vertical-align: top;\n",
       "    }\n",
       "\n",
       "    .dataframe thead th {\n",
       "        text-align: right;\n",
       "    }\n",
       "</style>\n",
       "<table border=\"1\" class=\"dataframe\">\n",
       "  <thead>\n",
       "    <tr style=\"text-align: right;\">\n",
       "      <th></th>\n",
       "      <th>AGE</th>\n",
       "      <th>HOME</th>\n",
       "      <th>INCOME</th>\n",
       "      <th>GENDER</th>\n",
       "      <th>HOUSEHOLD_N</th>\n",
       "      <th>CREDIT_LINES_N</th>\n",
       "      <th>DEAFULTED</th>\n",
       "    </tr>\n",
       "  </thead>\n",
       "  <tbody>\n",
       "    <tr>\n",
       "      <th>0</th>\n",
       "      <td>23</td>\n",
       "      <td>R</td>\n",
       "      <td>2</td>\n",
       "      <td>M</td>\n",
       "      <td>3</td>\n",
       "      <td>2</td>\n",
       "      <td>1</td>\n",
       "    </tr>\n",
       "    <tr>\n",
       "      <th>1</th>\n",
       "      <td>43</td>\n",
       "      <td>R</td>\n",
       "      <td>3</td>\n",
       "      <td>F</td>\n",
       "      <td>2</td>\n",
       "      <td>2</td>\n",
       "      <td>1</td>\n",
       "    </tr>\n",
       "    <tr>\n",
       "      <th>2</th>\n",
       "      <td>63</td>\n",
       "      <td>R</td>\n",
       "      <td>7</td>\n",
       "      <td>M</td>\n",
       "      <td>3</td>\n",
       "      <td>3</td>\n",
       "      <td>0</td>\n",
       "    </tr>\n",
       "    <tr>\n",
       "      <th>3</th>\n",
       "      <td>46</td>\n",
       "      <td>H</td>\n",
       "      <td>7</td>\n",
       "      <td>F</td>\n",
       "      <td>4</td>\n",
       "      <td>4</td>\n",
       "      <td>0</td>\n",
       "    </tr>\n",
       "    <tr>\n",
       "      <th>4</th>\n",
       "      <td>55</td>\n",
       "      <td>H</td>\n",
       "      <td>7</td>\n",
       "      <td>F</td>\n",
       "      <td>3</td>\n",
       "      <td>4</td>\n",
       "      <td>0</td>\n",
       "    </tr>\n",
       "  </tbody>\n",
       "</table>\n",
       "</div>"
      ],
      "text/plain": [
       "   AGE HOME  INCOME GENDER  HOUSEHOLD_N  CREDIT_LINES_N  DEAFULTED\n",
       "0   23    R       2      M            3               2          1\n",
       "1   43    R       3      F            2               2          1\n",
       "2   63    R       7      M            3               3          0\n",
       "3   46    H       7      F            4               4          0\n",
       "4   55    H       7      F            3               4          0"
      ]
     },
     "execution_count": 14,
     "metadata": {},
     "output_type": "execute_result"
    }
   ],
   "source": [
    "import pandas as pd\n",
    "import numpy as np\n",
    "df=pd.read_csv(r\"C:\\Users\\UJJWAL KUMAR\\Downloads\\Bank_Data - Bank_Data.csv\")\n",
    "df.head()"
   ]
  },
  {
   "cell_type": "code",
   "execution_count": 4,
   "id": "e4f34110",
   "metadata": {},
   "outputs": [
    {
     "name": "stdout",
     "output_type": "stream",
     "text": [
      "                     AGE    INCOME  HOUSEHOLD_N  CREDIT_LINES_N  DEAFULTED\n",
      "AGE             1.000000  0.168421    -0.011221        0.043436  -0.084937\n",
      "INCOME          0.168421  1.000000     0.504249        0.365290  -0.383171\n",
      "HOUSEHOLD_N    -0.011221  0.504249     1.000000        0.613363  -0.040478\n",
      "CREDIT_LINES_N  0.043436  0.365290     0.613363        1.000000   0.159312\n",
      "DEAFULTED      -0.084937 -0.383171    -0.040478        0.159312   1.000000\n"
     ]
    }
   ],
   "source": [
    "print(df.corr())"
   ]
  },
  {
   "cell_type": "code",
   "execution_count": 5,
   "id": "dd50b2ee",
   "metadata": {},
   "outputs": [
    {
     "data": {
      "text/plain": [
       "AGE               0\n",
       "HOME              0\n",
       "INCOME            0\n",
       "GENDER            0\n",
       "HOUSEHOLD_N       0\n",
       "CREDIT_LINES_N    0\n",
       "DEAFULTED         0\n",
       "dtype: int64"
      ]
     },
     "execution_count": 5,
     "metadata": {},
     "output_type": "execute_result"
    }
   ],
   "source": [
    "df.isna().sum()"
   ]
  },
  {
   "cell_type": "code",
   "execution_count": 6,
   "id": "223cbbeb",
   "metadata": {},
   "outputs": [],
   "source": [
    "from sklearn import preprocessing\n",
    "lab_enc = preprocessing.LabelEncoder()\n",
    "df['HOME']= lab_enc.fit_transform(df['HOME'])\n",
    "df['GENDER']=lab_enc.fit_transform(df['GENDER'])\n"
   ]
  },
  {
   "cell_type": "code",
   "execution_count": 7,
   "id": "84db7a85",
   "metadata": {},
   "outputs": [
    {
     "data": {
      "text/html": [
       "<div>\n",
       "<style scoped>\n",
       "    .dataframe tbody tr th:only-of-type {\n",
       "        vertical-align: middle;\n",
       "    }\n",
       "\n",
       "    .dataframe tbody tr th {\n",
       "        vertical-align: top;\n",
       "    }\n",
       "\n",
       "    .dataframe thead th {\n",
       "        text-align: right;\n",
       "    }\n",
       "</style>\n",
       "<table border=\"1\" class=\"dataframe\">\n",
       "  <thead>\n",
       "    <tr style=\"text-align: right;\">\n",
       "      <th></th>\n",
       "      <th>HOME</th>\n",
       "      <th>GENDER</th>\n",
       "    </tr>\n",
       "  </thead>\n",
       "  <tbody>\n",
       "    <tr>\n",
       "      <th>0</th>\n",
       "      <td>1</td>\n",
       "      <td>1</td>\n",
       "    </tr>\n",
       "    <tr>\n",
       "      <th>1</th>\n",
       "      <td>1</td>\n",
       "      <td>0</td>\n",
       "    </tr>\n",
       "    <tr>\n",
       "      <th>2</th>\n",
       "      <td>1</td>\n",
       "      <td>1</td>\n",
       "    </tr>\n",
       "    <tr>\n",
       "      <th>3</th>\n",
       "      <td>0</td>\n",
       "      <td>0</td>\n",
       "    </tr>\n",
       "    <tr>\n",
       "      <th>4</th>\n",
       "      <td>0</td>\n",
       "      <td>0</td>\n",
       "    </tr>\n",
       "  </tbody>\n",
       "</table>\n",
       "</div>"
      ],
      "text/plain": [
       "   HOME  GENDER\n",
       "0     1       1\n",
       "1     1       0\n",
       "2     1       1\n",
       "3     0       0\n",
       "4     0       0"
      ]
     },
     "execution_count": 7,
     "metadata": {},
     "output_type": "execute_result"
    }
   ],
   "source": [
    "df[[\"HOME\",\"GENDER\"]].head()"
   ]
  },
  {
   "cell_type": "code",
   "execution_count": 8,
   "id": "8d196ced",
   "metadata": {},
   "outputs": [
    {
     "name": "stdout",
     "output_type": "stream",
     "text": [
      "<class 'pandas.core.frame.DataFrame'>\n",
      "RangeIndex: 1100 entries, 0 to 1099\n",
      "Data columns (total 7 columns):\n",
      " #   Column          Non-Null Count  Dtype\n",
      "---  ------          --------------  -----\n",
      " 0   AGE             1100 non-null   int64\n",
      " 1   HOME            1100 non-null   int32\n",
      " 2   INCOME          1100 non-null   int64\n",
      " 3   GENDER          1100 non-null   int32\n",
      " 4   HOUSEHOLD_N     1100 non-null   int64\n",
      " 5   CREDIT_LINES_N  1100 non-null   int64\n",
      " 6   DEAFULTED       1100 non-null   int64\n",
      "dtypes: int32(2), int64(5)\n",
      "memory usage: 51.7 KB\n"
     ]
    }
   ],
   "source": [
    "df.info()"
   ]
  },
  {
   "cell_type": "code",
   "execution_count": 9,
   "id": "f819e842",
   "metadata": {},
   "outputs": [
    {
     "data": {
      "text/html": [
       "<div>\n",
       "<style scoped>\n",
       "    .dataframe tbody tr th:only-of-type {\n",
       "        vertical-align: middle;\n",
       "    }\n",
       "\n",
       "    .dataframe tbody tr th {\n",
       "        vertical-align: top;\n",
       "    }\n",
       "\n",
       "    .dataframe thead th {\n",
       "        text-align: right;\n",
       "    }\n",
       "</style>\n",
       "<table border=\"1\" class=\"dataframe\">\n",
       "  <thead>\n",
       "    <tr style=\"text-align: right;\">\n",
       "      <th></th>\n",
       "      <th>AGE</th>\n",
       "      <th>HOME</th>\n",
       "      <th>INCOME</th>\n",
       "      <th>GENDER</th>\n",
       "      <th>HOUSEHOLD_N</th>\n",
       "      <th>CREDIT_LINES_N</th>\n",
       "      <th>DEAFULTED</th>\n",
       "    </tr>\n",
       "  </thead>\n",
       "  <tbody>\n",
       "    <tr>\n",
       "      <th>count</th>\n",
       "      <td>1100.000000</td>\n",
       "      <td>1100.000000</td>\n",
       "      <td>1100.000000</td>\n",
       "      <td>1100.000000</td>\n",
       "      <td>1100.000000</td>\n",
       "      <td>1100.000000</td>\n",
       "      <td>1100.000000</td>\n",
       "    </tr>\n",
       "    <tr>\n",
       "      <th>mean</th>\n",
       "      <td>50.397273</td>\n",
       "      <td>0.331818</td>\n",
       "      <td>4.434545</td>\n",
       "      <td>0.411818</td>\n",
       "      <td>3.137273</td>\n",
       "      <td>2.452727</td>\n",
       "      <td>0.406364</td>\n",
       "    </tr>\n",
       "    <tr>\n",
       "      <th>std</th>\n",
       "      <td>13.246229</td>\n",
       "      <td>0.471080</td>\n",
       "      <td>1.465492</td>\n",
       "      <td>0.492386</td>\n",
       "      <td>1.205942</td>\n",
       "      <td>1.785734</td>\n",
       "      <td>0.491377</td>\n",
       "    </tr>\n",
       "    <tr>\n",
       "      <th>min</th>\n",
       "      <td>3.000000</td>\n",
       "      <td>0.000000</td>\n",
       "      <td>2.000000</td>\n",
       "      <td>0.000000</td>\n",
       "      <td>1.000000</td>\n",
       "      <td>0.000000</td>\n",
       "      <td>0.000000</td>\n",
       "    </tr>\n",
       "    <tr>\n",
       "      <th>25%</th>\n",
       "      <td>43.000000</td>\n",
       "      <td>0.000000</td>\n",
       "      <td>3.000000</td>\n",
       "      <td>0.000000</td>\n",
       "      <td>2.000000</td>\n",
       "      <td>1.000000</td>\n",
       "      <td>0.000000</td>\n",
       "    </tr>\n",
       "    <tr>\n",
       "      <th>50%</th>\n",
       "      <td>52.000000</td>\n",
       "      <td>0.000000</td>\n",
       "      <td>4.000000</td>\n",
       "      <td>0.000000</td>\n",
       "      <td>3.000000</td>\n",
       "      <td>2.000000</td>\n",
       "      <td>0.000000</td>\n",
       "    </tr>\n",
       "    <tr>\n",
       "      <th>75%</th>\n",
       "      <td>62.000000</td>\n",
       "      <td>1.000000</td>\n",
       "      <td>5.000000</td>\n",
       "      <td>1.000000</td>\n",
       "      <td>4.000000</td>\n",
       "      <td>4.000000</td>\n",
       "      <td>1.000000</td>\n",
       "    </tr>\n",
       "    <tr>\n",
       "      <th>max</th>\n",
       "      <td>78.000000</td>\n",
       "      <td>1.000000</td>\n",
       "      <td>7.000000</td>\n",
       "      <td>1.000000</td>\n",
       "      <td>6.000000</td>\n",
       "      <td>6.000000</td>\n",
       "      <td>1.000000</td>\n",
       "    </tr>\n",
       "  </tbody>\n",
       "</table>\n",
       "</div>"
      ],
      "text/plain": [
       "               AGE         HOME       INCOME       GENDER  HOUSEHOLD_N  \\\n",
       "count  1100.000000  1100.000000  1100.000000  1100.000000  1100.000000   \n",
       "mean     50.397273     0.331818     4.434545     0.411818     3.137273   \n",
       "std      13.246229     0.471080     1.465492     0.492386     1.205942   \n",
       "min       3.000000     0.000000     2.000000     0.000000     1.000000   \n",
       "25%      43.000000     0.000000     3.000000     0.000000     2.000000   \n",
       "50%      52.000000     0.000000     4.000000     0.000000     3.000000   \n",
       "75%      62.000000     1.000000     5.000000     1.000000     4.000000   \n",
       "max      78.000000     1.000000     7.000000     1.000000     6.000000   \n",
       "\n",
       "       CREDIT_LINES_N    DEAFULTED  \n",
       "count     1100.000000  1100.000000  \n",
       "mean         2.452727     0.406364  \n",
       "std          1.785734     0.491377  \n",
       "min          0.000000     0.000000  \n",
       "25%          1.000000     0.000000  \n",
       "50%          2.000000     0.000000  \n",
       "75%          4.000000     1.000000  \n",
       "max          6.000000     1.000000  "
      ]
     },
     "execution_count": 9,
     "metadata": {},
     "output_type": "execute_result"
    }
   ],
   "source": [
    "df.describe()"
   ]
  },
  {
   "cell_type": "code",
   "execution_count": 10,
   "id": "db5314fc",
   "metadata": {},
   "outputs": [],
   "source": [
    "x=df.iloc[:,0:6].values\n",
    "y=df.iloc[:,-1].values"
   ]
  },
  {
   "cell_type": "code",
   "execution_count": 11,
   "id": "c3d32667",
   "metadata": {},
   "outputs": [],
   "source": [
    "from sklearn.model_selection import train_test_split\n",
    "x_train, x_test, y_train, y_test = train_test_split(x, y, test_size=0.30, random_state=4)\n"
   ]
  },
  {
   "cell_type": "code",
   "execution_count": 19,
   "id": "e07c03a3",
   "metadata": {},
   "outputs": [
    {
     "data": {
      "text/plain": [
       "Text(0.5, 1.0, 'KNN_AlGO')"
      ]
     },
     "execution_count": 19,
     "metadata": {},
     "output_type": "execute_result"
    },
    {
     "data": {
      "image/png": "[encoded data removed]",
      "text/plain": [
       "<Figure size 432x288 with 1 Axes>"
      ]
     },
     "metadata": {
      "needs_background": "light"
     },
     "output_type": "display_data"
    }
   ],
   "source": [
    "from sklearn.neighbors import KNeighborsClassifier\n",
    "from sklearn.metrics import confusion_matrix,accuracy_score\n",
    "import matplotlib.pyplot as plt\n",
    "li=[]\n",
    "n=[]\n",
    "for i in range(2,11):\n",
    "    classifier = KNeighborsClassifier(n_neighbors = i)\n",
    "    classifier.fit(x_train, y_train)\n",
    "    y_pred = classifier.predict(x_test)\n",
    "    cm = confusion_matrix(y_test, y_pred)\n",
    "    ac = accuracy_score(y_test,y_pred)\n",
    "    li.append(ac)\n",
    "    n.append(i)\n",
    "plt.plot(n,li)\n",
    "plt.xlabel(\"Number of Neighbors\")\n",
    "plt.ylabel(\"Accuracy\")\n",
    "plt.title(\"KNN_AlGO\")\n",
    "    \n"
   ]
  },
  {
   "cell_type": "code",
   "execution_count": 20,
   "id": "7815f946",
   "metadata": {},
   "outputs": [
    {
     "data": {
      "image/png": "[encoded data removed]",
      "text/plain": [
       "<Figure size 432x288 with 1 Axes>"
      ]
     },
     "metadata": {
      "needs_background": "light"
     },
     "output_type": "display_data"
    }
   ],
   "source": [
    "d=[]\n",
    "sc=[]\n",
    "from sklearn.svm import SVC\n",
    "for i in range(1,6):\n",
    "    model=SVC(kernel='poly',degree=i,random_state=0)\n",
    "    model.fit(x_train,y_train)\n",
    "    y_pred=model.predict(x_test)\n",
    "    #cm=confusion_matrix(Y_pred,Y_test)\n",
    "    score=accuracy_score(y_pred,y_test)\n",
    "    d.append(i)\n",
    "    sc.append(score)\n",
    "plt.plot(d,sc)\n",
    "plt.xlabel(\"Value degree\")\n",
    "plt.ylabel(\"Accuracy\")\n",
    "plt.title(\"degree vs accuracy for svm\")\n",
    "plt.show()"
   ]
  },
  {
   "cell_type": "code",
   "execution_count": 21,
   "id": "9fe76496",
   "metadata": {},
   "outputs": [
    {
     "data": {
      "image/png": "[encoded data removed]",
      "text/plain": [
       "<Figure size 432x288 with 1 Axes>"
      ]
     },
     "metadata": {
      "needs_background": "light"
     },
     "output_type": "display_data"
    }
   ],
   "source": [
    "from sklearn.tree import DecisionTreeClassifier\n",
    "from sklearn.metrics import accuracy_score\n",
    "dep=[]\n",
    "sc=[]\n",
    "for i in range(2,11):\n",
    "    model=DecisionTreeClassifier(max_depth=i)\n",
    "    model.fit(x_train,y_train)\n",
    "    Y_pred=model.predict(x_test)\n",
    "    score=accuracy_score(Y_pred,y_test)\n",
    "    dep.append(i)\n",
    "    sc.append(score)\n",
    "    \n",
    "plt.plot(dep,sc)\n",
    "plt.xlabel(\"depth\")\n",
    "plt.ylabel(\"Accuracy\")\n",
    "plt.title(\"depth vs accuracy for decision tree\")\n",
    "plt.show()    \n"
   ]
  },
  {
   "cell_type": "code",
   "execution_count": 22,
   "id": "1afb3eb3",
   "metadata": {},
   "outputs": [
    {
     "data": {
      "image/png": "[encoded data removed]",
      "text/plain": [
       "<Figure size 432x288 with 1 Axes>"
      ]
     },
     "metadata": {
      "needs_background": "light"
     },
     "output_type": "display_data"
    }
   ],
   "source": [
    "from sklearn.ensemble import RandomForestClassifier as r\n",
    "\n",
    "\n",
    "n=[]\n",
    "scr=[]\n",
    "for i in range(3,10):\n",
    "    model=r(n_estimators=i,random_state=2)\n",
    "    model.fit(x_train,y_train)\n",
    "    Y_pred=model.predict(x_test)\n",
    "    score=accuracy_score(Y_pred,y_test)\n",
    "    n.append(i)\n",
    "    scr.append(score)\n",
    "plt.plot(n,scr)\n",
    "plt.xlabel(\"no_estimator\")\n",
    "plt.ylabel(\"Accuracy\")\n",
    "plt.title(\"no_estimator vs accuracy for Randomforest\")\n",
    "plt.show() "
   ]
  },
  {
   "cell_type": "code",
   "execution_count": null,
   "id": "3c142bdf",
   "metadata": {},
   "outputs": [],
   "source": []
  }
 ],
 "metadata": {
  "kernelspec": {
   "display_name": "Python 3 (ipykernel)",
   "language": "python",
   "name": "python3"
  },
  "language_info": {
   "codemirror_mode": {
    "name": "ipython",
    "version": 3
   },
   "file_extension": ".py",
   "mimetype": "text/x-python",
   "name": "python",
   "nbconvert_exporter": "python",
   "pygments_lexer": "ipython3",
   "version": "3.9.7"
  }
 },
 "nbformat": 4,
 "nbformat_minor": 5
}
